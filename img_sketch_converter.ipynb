{
 "cells": [
  {
   "cell_type": "code",
   "execution_count": 2,
   "id": "8d125b21",
   "metadata": {},
   "outputs": [
    {
     "name": "stdout",
     "output_type": "stream",
     "text": [
      "Requirement already satisfied: Pillow in c:\\users\\subeg singh\\appdata\\local\\programs\\python\\python310\\lib\\site-packages (9.2.0)\n"
     ]
    },
    {
     "name": "stderr",
     "output_type": "stream",
     "text": [
      "WARNING: You are using pip version 21.2.4; however, version 23.2.1 is available.\n",
      "You should consider upgrading via the 'C:\\Users\\Subeg Singh\\AppData\\Local\\Programs\\Python\\Python310\\python.exe -m pip install --upgrade pip' command.\n"
     ]
    }
   ],
   "source": [
    "!pip install Pillow"
   ]
  },
  {
   "cell_type": "code",
   "execution_count": 32,
   "id": "d5013302",
   "metadata": {},
   "outputs": [],
   "source": [
    "from PIL import Image, ImageOps\n",
    "import PIL\n",
    "\n",
    "Sample_img= \"courage.jpg\"\n",
    "input_image= Image.open(Sample_img)\n",
    "\n"
   ]
  },
  {
   "cell_type": "code",
   "execution_count": 26,
   "id": "ecdfc2b9",
   "metadata": {},
   "outputs": [],
   "source": [
    "input_image_gray = input_image.convert(\"L\")\n"
   ]
  },
  {
   "cell_type": "code",
   "execution_count": 27,
   "id": "d38f7b81",
   "metadata": {},
   "outputs": [],
   "source": [
    "inverted_image = ImageOps.invert(input_image_gray)\n"
   ]
  },
  {
   "cell_type": "code",
   "execution_count": 42,
   "id": "1cff93e9",
   "metadata": {},
   "outputs": [],
   "source": [
    "from PIL import ImageFilter \n",
    "\n",
    "sketch_img= input_image_gray.filter(ImageFilter.FIND_EDGES)\n",
    "final_image= sketch_img"
   ]
  },
  {
   "cell_type": "code",
   "execution_count": 48,
   "id": "b448be89",
   "metadata": {},
   "outputs": [
    {
     "name": "stdout",
     "output_type": "stream",
     "text": [
      "Couldn't save image <PIL.Image.Image image mode=L size=1920x1080 at 0x1A3B6060CA0>\n"
     ]
    }
   ],
   "source": [
    "Output_img_path= \"C:/Users/Subeg Singh/Desktop/projects/IMG-sketch_converter\"\n",
    "try:\n",
    "        final_image.save(final_image, \"JPEG\")\n",
    "except AttributeError:\n",
    "        print(\"Couldn't save image {}\".format(final_image))"
   ]
  },
  {
   "cell_type": "code",
   "execution_count": null,
   "id": "956ef47e",
   "metadata": {},
   "outputs": [],
   "source": []
  }
 ],
 "metadata": {
  "kernelspec": {
   "display_name": "Python 3 (ipykernel)",
   "language": "python",
   "name": "python3"
  },
  "language_info": {
   "codemirror_mode": {
    "name": "ipython",
    "version": 3
   },
   "file_extension": ".py",
   "mimetype": "text/x-python",
   "name": "python",
   "nbconvert_exporter": "python",
   "pygments_lexer": "ipython3",
   "version": "3.10.2"
  }
 },
 "nbformat": 4,
 "nbformat_minor": 5
}
